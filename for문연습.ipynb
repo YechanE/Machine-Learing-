{
 "cells": [
  {
   "cell_type": "code",
   "execution_count": 1,
   "id": "4891e965",
   "metadata": {},
   "outputs": [],
   "source": [
    "list_food = [\"햄버거\",\"치킨\",\"피자\"]\n",
    "for food in list_food:\n",
    "    print(food)"
   ]
  },
  {
   "cell_type": "code",
   "execution_count": 2,
   "id": "0fc0a415",
   "metadata": {},
   "outputs": [
    {
     "name": "stdout",
     "output_type": "stream",
     "text": [
      "1번 학생은 합격입니다\n",
      "2번 학생은 불합격입니다\n",
      "3번 학생은 합격입니다\n",
      "4번 학생은 합격입니다\n",
      "5번 학생은 불합격입니다\n"
     ]
    }
   ],
   "source": [
    "score_list = [90,45,70,60,55]\n",
    "for score in score_list:\n",
    "    if score >= 60:\n",
    "        print(\"{}번 학생은 합격입니다\".format(number))\n",
    "    else:\n",
    "        print(\"{}번 학생은 불합격입니다\".format(number))\n",
    "    "
   ]
  },
  {
   "cell_type": "code",
   "execution_count": 3,
   "id": "1e14c9e4",
   "metadata": {},
   "outputs": [
    {
     "name": "stdout",
     "output_type": "stream",
     "text": [
      "123456789"
     ]
    }
   ],
   "source": []
  },
  {
   "cell_type": "markdown",
   "id": "f40fa7d6",
   "metadata": {},
   "source": [
    "import random\n",
    "com_number  = random.randint(1,50)\n",
    "while True:\n",
    "    num = int(input(\"숫자를 입력하세요 >> \"))\n",
    "    if num < com_number:\n",
    "        print(\"number is larger than {}\".format(num))\n",
    "    elif num > com_number:\n",
    "        print(\"number is smaller than {}\".format(num))\n",
    "    else:\n",
    "        print(\"Corret!\")\n",
    "        break "
   ]
  },
  {
   "cell_type": "code",
   "execution_count": null,
   "id": "0262fe3e",
   "metadata": {},
   "outputs": [],
   "source": []
  },
  {
   "cell_type": "code",
   "execution_count": 10,
   "id": "c4270f91",
   "metadata": {},
   "outputs": [
    {
     "ename": "SyntaxError",
     "evalue": "invalid syntax (<ipython-input-10-dfe27ed2b069>, line 3)",
     "output_type": "error",
     "traceback": [
      "\u001b[0;36m  File \u001b[0;32m\"<ipython-input-10-dfe27ed2b069>\"\u001b[0;36m, line \u001b[0;32m3\u001b[0m\n\u001b[0;31m    while num = com_number :\u001b[0m\n\u001b[0m              ^\u001b[0m\n\u001b[0;31mSyntaxError\u001b[0m\u001b[0;31m:\u001b[0m invalid syntax\n"
     ]
    }
   ],
   "source": [
    "import random\n",
    "com_number  = random.randint(1,50)\n",
    "while num = com_number :\n",
    "    for i in range(1,50):\n",
    "        i == num \n",
    "        if num < com_number:\n",
    "            print(\"number is larger than {}\".format(num))\n",
    "        elif num > com_number:\n",
    "            print(\"number is smaller than {}\".format(num))\n",
    "        else:\n",
    "            print(\"Corret!\")\n",
    "        break\n"
   ]
  },
  {
   "cell_type": "code",
   "execution_count": 82,
   "id": "6adbad13",
   "metadata": {},
   "outputs": [],
   "source": [
    "for i in range(1,50):\n",
    "    i = num "
   ]
  },
  {
   "cell_type": "code",
   "execution_count": 20,
   "id": "2eeecc7d",
   "metadata": {},
   "outputs": [
    {
     "name": "stdout",
     "output_type": "stream",
     "text": [
      "1\n",
      "2\n",
      "3\n"
     ]
    }
   ],
   "source": [
    "num = 1 \n",
    "while num != 4 : \n",
    "    print(num)\n",
    "    num = num +1 "
   ]
  },
  {
   "cell_type": "code",
   "execution_count": 55,
   "id": "753a947c",
   "metadata": {},
   "outputs": [
    {
     "name": "stdout",
     "output_type": "stream",
     "text": [
      "number is larger than 2\n",
      "number is larger than 3\n",
      "number is larger than 4\n",
      "number is larger than 5\n",
      "number is larger than 6\n",
      "number is larger than 7\n",
      "number is larger than 8\n",
      "number is larger than 9\n",
      "number is larger than 10\n",
      "number is larger than 11\n",
      "number is larger than 12\n",
      "number is larger than 13\n",
      "number is larger than 14\n",
      "number is larger than 15\n",
      "number is larger than 16\n",
      "number is larger than 17\n",
      "number is larger than 18\n",
      "number is larger than 19\n",
      "number is larger than 20\n",
      "number is larger than 21\n",
      "number is larger than 22\n",
      "number is larger than 23\n",
      "number is larger than 24\n",
      "number is larger than 25\n",
      "number is larger than 26\n",
      "number is larger than 27\n",
      "number is larger than 28\n",
      "number is larger than 29\n",
      "number is larger than 30\n",
      "number is larger than 31\n",
      "number is larger than 32\n",
      "number is larger than 33\n",
      "number is larger than 34\n",
      "number is larger than 35\n",
      "number is larger than 36\n",
      "number is larger than 37\n",
      "number is larger than 38\n",
      "number is larger than 39\n",
      "number is larger than 40\n",
      "number is larger than 41\n",
      "number is larger than 42\n",
      "number is larger than 43\n",
      "Corret! number is  44\n"
     ]
    }
   ],
   "source": [
    "import random \n",
    "com_number = random.randint(1,50)\n",
    "num = 1 \n",
    "while num != com_number : \n",
    "    num += 1\n",
    "    if num < com_number:\n",
    "            print(\"number is larger than {}\".format(num))\n",
    "    elif num > com_number:\n",
    "            print(\"number is smaller than {}\".format(num))\n",
    "    else:\n",
    "            print(\"Corret! number is \", num)\n",
    "            break "
   ]
  },
  {
   "cell_type": "code",
   "execution_count": 52,
   "id": "a931ba99",
   "metadata": {},
   "outputs": [
    {
     "data": {
      "text/plain": [
       "2"
      ]
     },
     "execution_count": 52,
     "metadata": {},
     "output_type": "execute_result"
    }
   ],
   "source": [
    "num = 1\n",
    "num += 1 \n",
    "num"
   ]
  },
  {
   "cell_type": "code",
   "execution_count": 49,
   "id": "345e315b",
   "metadata": {},
   "outputs": [
    {
     "name": "stdout",
     "output_type": "stream",
     "text": [
      "1\n",
      "2\n",
      "3\n",
      "4\n",
      "5\n",
      "6\n",
      "7\n",
      "8\n",
      "9\n"
     ]
    }
   ],
   "source": [
    "for i in range(1,10):\n",
    "    print(i)"
   ]
  },
  {
   "cell_type": "code",
   "execution_count": null,
   "id": "c6b61e74",
   "metadata": {},
   "outputs": [],
   "source": []
  },
  {
   "cell_type": "code",
   "execution_count": 55,
   "id": "5589ae98",
   "metadata": {},
   "outputs": [
    {
     "name": "stdout",
     "output_type": "stream",
     "text": [
      "Enter thr first integer1\n",
      "Enter the last integer12\n",
      "1\n",
      "2\n",
      "3\n",
      "4\n",
      "5\n",
      "6\n",
      "7\n",
      "8\n",
      "9\n",
      "10\n",
      "11\n",
      "12\n"
     ]
    }
   ],
   "source": [
    "start = int(input(\"Enter thr first integer\"))\n",
    "end = int(input(\"Enter the last integer\"))\n",
    "for i in range(start,end+1):\n",
    "    print(i)"
   ]
  },
  {
   "cell_type": "code",
   "execution_count": 63,
   "id": "a1c0e88a",
   "metadata": {},
   "outputs": [
    {
     "name": "stdout",
     "output_type": "stream",
     "text": [
      "1683\n"
     ]
    }
   ],
   "source": [
    "a= 0\n",
    "for i in range(0,100,3):\n",
    "    a= i+a\n",
    "\n",
    "print(a)"
   ]
  },
  {
   "cell_type": "code",
   "execution_count": 67,
   "id": "9bac28d3",
   "metadata": {},
   "outputs": [
    {
     "name": "stdout",
     "output_type": "stream",
     "text": [
      " 2 * 1 = 2\n",
      " 2 * 2 = 4\n",
      " 2 * 3 = 6\n",
      " 2 * 4 = 8\n",
      " 2 * 5 = 10\n",
      " 2 * 6 = 12\n",
      " 2 * 7 = 14\n",
      " 2 * 8 = 16\n",
      " 2 * 9 = 18\n"
     ]
    }
   ],
   "source": [
    "for i in range(1,10):\n",
    "    print(\" 2 *\" ,i,\"=\",2*i)"
   ]
  },
  {
   "cell_type": "code",
   "execution_count": 80,
   "id": "e1cc3c89",
   "metadata": {},
   "outputs": [
    {
     "name": "stdout",
     "output_type": "stream",
     "text": [
      "Enter the integer >> 12\n",
      "divisor of 12 :1 2 3 4 6 12 "
     ]
    }
   ],
   "source": [
    "num = int(input(\"Enter the integer >> \"))\n",
    "print(\"divisor of\", num, \":\", end =\"\")\n",
    "for i in range(1,num+1):\n",
    "    if num%i == 0:\n",
    "        print(i,end = \" \")"
   ]
  },
  {
   "cell_type": "code",
   "execution_count": 56,
   "id": "b72a65c7",
   "metadata": {},
   "outputs": [],
   "source": [
    "mathList = [20,20,40,40,30]\n",
    "korlist = [0,0,0,0,0]\n",
    "musicList =[30,30,50,50,40]\n",
    "\n",
    "\n",
    "\n",
    "\n",
    "\n",
    "\n",
    "\n",
    "\n",
    "\n",
    "\n",
    "\n"
   ]
  },
  {
   "cell_type": "code",
   "execution_count": 60,
   "id": "8970eb15",
   "metadata": {},
   "outputs": [
    {
     "data": {
      "text/plain": [
       "79.0"
      ]
     },
     "execution_count": 60,
     "metadata": {},
     "output_type": "execute_result"
    }
   ],
   "source": [
    "scoreList = [70,60,55,75,95,90,80,80,85,100]\n",
    "sum = 0\n",
    "for score in scoreList: \n",
    "    sum = sum + score\n",
    "sum / len(scoreList)"
   ]
  },
  {
   "cell_type": "code",
   "execution_count": 75,
   "id": "a1afaa55",
   "metadata": {},
   "outputs": [
    {
     "name": "stdout",
     "output_type": "stream",
     "text": [
      "30.0 0.0 40.0\n"
     ]
    }
   ],
   "source": [
    "mathList = [20,20,40,40,30]\n",
    "korList = [0,0,0,0,0]\n",
    "musicList = [30,30,50,50,40]\n",
    "\n",
    "midtermList = [mathList, korList, musicList]\n",
    "\n",
    "math_sum = 0 \n",
    "kor_sum = 0\n",
    "music_sum = 0 \n",
    "\n",
    "for a in range(0,5):\n",
    "    math_sum += midtermList[0][a]\n",
    "    kor_sum += midtermList[1][a]\n",
    "    music_sum += midtermList[2][a]\n",
    "    \n",
    "print(math_sum/len(mathList), kor_sum/len(korList), \n",
    "      music_sum/len(musicList) "
   ]
  },
  {
   "cell_type": "code",
   "execution_count": 6,
   "id": "7c25e9ad",
   "metadata": {},
   "outputs": [
    {
     "name": "stdout",
     "output_type": "stream",
     "text": [
      "[30.0, 0.0, 40.0]\n"
     ]
    }
   ],
   "source": [
    "mathList = [20,20,40,40,30]\n",
    "korList = [0,0,0,0,0]\n",
    "musicList = [30,30,50,50,40]\n",
    "\n",
    "mid_avg = []\n",
    "midtermList = [mathList, korList, musicList]\n",
    "\n",
    "for i in range(0,len(midtermList)):\n",
    "    mid_avg.append((sum(midtermList[i]))\n",
    "                   /len(midtermList[i]))\n",
    "print(mid_avg)"
   ]
  },
  {
   "cell_type": "code",
   "execution_count": 90,
   "id": "d3fa6524",
   "metadata": {},
   "outputs": [
    {
     "data": {
      "text/plain": [
       "1"
      ]
     },
     "execution_count": 90,
     "metadata": {},
     "output_type": "execute_result"
    }
   ],
   "source": [
    "a = []\n",
    "a.append([1,2,4])\n",
    "a \n",
    "a[0][0]"
   ]
  },
  {
   "cell_type": "code",
   "execution_count": null,
   "id": "c9f30ceb",
   "metadata": {},
   "outputs": [],
   "source": [
    "def string_replace(list_test):\n",
    "    for review in list_test"
   ]
  },
  {
   "cell_type": "code",
   "execution_count": 12,
   "id": "0da762cc",
   "metadata": {},
   "outputs": [
    {
     "data": {
      "text/plain": [
       "datetime.datetime(2022, 3, 12, 17, 59, 45, 28816)"
      ]
     },
     "execution_count": 12,
     "metadata": {},
     "output_type": "execute_result"
    }
   ],
   "source": [
    "import datetime\n",
    "datetime.datetime.now()"
   ]
  },
  {
   "cell_type": "code",
   "execution_count": null,
   "id": "17df471b",
   "metadata": {},
   "outputs": [],
   "source": []
  },
  {
   "cell_type": "code",
   "execution_count": null,
   "id": "fd12d57b",
   "metadata": {},
   "outputs": [],
   "source": []
  },
  {
   "cell_type": "code",
   "execution_count": null,
   "id": "dcbda44e",
   "metadata": {},
   "outputs": [],
   "source": []
  },
  {
   "cell_type": "code",
   "execution_count": null,
   "id": "d80f6dfd",
   "metadata": {},
   "outputs": [],
   "source": []
  },
  {
   "cell_type": "markdown",
   "id": "0c324b4c",
   "metadata": {},
   "source": []
  },
  {
   "cell_type": "markdown",
   "id": "6cb1b109",
   "metadata": {},
   "source": []
  },
  {
   "cell_type": "markdown",
   "id": "b72e4d35",
   "metadata": {},
   "source": []
  },
  {
   "cell_type": "markdown",
   "id": "bd1731d9",
   "metadata": {},
   "source": []
  }
 ],
 "metadata": {
  "kernelspec": {
   "display_name": "Python 3",
   "language": "python",
   "name": "python3"
  },
  "language_info": {
   "codemirror_mode": {
    "name": "ipython",
    "version": 3
   },
   "file_extension": ".py",
   "mimetype": "text/x-python",
   "name": "python",
   "nbconvert_exporter": "python",
   "pygments_lexer": "ipython3",
   "version": "3.8.8"
  }
 },
 "nbformat": 4,
 "nbformat_minor": 5
}
